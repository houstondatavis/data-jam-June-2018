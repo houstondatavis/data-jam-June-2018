{
 "cells": [
  {
   "cell_type": "code",
   "execution_count": 1,
   "metadata": {},
   "outputs": [
    {
     "ename": "TypeError",
     "evalue": "'ellipsis' object is not iterable",
     "output_type": "error",
     "traceback": [
      "\u001b[0;31m---------------------------------------------------------------------------\u001b[0m",
      "\u001b[0;31mTypeError\u001b[0m                                 Traceback (most recent call last)",
      "\u001b[0;32m<ipython-input-1-869d034d20fc>\u001b[0m in \u001b[0;36m<module>\u001b[0;34m()\u001b[0m\n\u001b[1;32m      4\u001b[0m \u001b[0;31m# #import altair as alt\u001b[0m\u001b[0;34m\u001b[0m\u001b[0;34m\u001b[0m\u001b[0m\n\u001b[1;32m      5\u001b[0m \u001b[0;34m\u001b[0m\u001b[0m\n\u001b[0;32m----> 6\u001b[0;31m \u001b[0;32mimport\u001b[0m \u001b[0maltair\u001b[0m \u001b[0;32mas\u001b[0m \u001b[0malt\u001b[0m\u001b[0;34m\u001b[0m\u001b[0m\n\u001b[0m\u001b[1;32m      7\u001b[0m \u001b[0;32mfrom\u001b[0m \u001b[0mvega_datasets\u001b[0m \u001b[0;32mimport\u001b[0m \u001b[0mdata\u001b[0m\u001b[0;34m\u001b[0m\u001b[0m\n",
      "\u001b[0;32m~/anaconda/lib/python3.5/site-packages/altair/__init__.py\u001b[0m in \u001b[0;36m<module>\u001b[0;34m()\u001b[0m\n\u001b[1;32m      2\u001b[0m \u001b[0m__version__\u001b[0m \u001b[0;34m=\u001b[0m \u001b[0;34m'2.1.0'\u001b[0m\u001b[0;34m\u001b[0m\u001b[0m\n\u001b[1;32m      3\u001b[0m \u001b[0;34m\u001b[0m\u001b[0m\n\u001b[0;32m----> 4\u001b[0;31m \u001b[0;32mfrom\u001b[0m \u001b[0;34m.\u001b[0m\u001b[0mvegalite\u001b[0m \u001b[0;32mimport\u001b[0m \u001b[0;34m*\u001b[0m\u001b[0;34m\u001b[0m\u001b[0m\n\u001b[0m\u001b[1;32m      5\u001b[0m \u001b[0;34m\u001b[0m\u001b[0m\n\u001b[1;32m      6\u001b[0m \u001b[0;32mdef\u001b[0m \u001b[0mload_ipython_extension\u001b[0m\u001b[0;34m(\u001b[0m\u001b[0mipython\u001b[0m\u001b[0;34m)\u001b[0m\u001b[0;34m:\u001b[0m\u001b[0;34m\u001b[0m\u001b[0m\n",
      "\u001b[0;32m~/anaconda/lib/python3.5/site-packages/altair/vegalite/__init__.py\u001b[0m in \u001b[0;36m<module>\u001b[0;34m()\u001b[0m\n\u001b[1;32m      1\u001b[0m \u001b[0;31m# flake8: noqa\u001b[0m\u001b[0;34m\u001b[0m\u001b[0;34m\u001b[0m\u001b[0m\n\u001b[0;32m----> 2\u001b[0;31m \u001b[0;32mfrom\u001b[0m \u001b[0;34m.\u001b[0m\u001b[0mv2\u001b[0m \u001b[0;32mimport\u001b[0m \u001b[0;34m*\u001b[0m\u001b[0;34m\u001b[0m\u001b[0m\n\u001b[0m",
      "\u001b[0;32m~/anaconda/lib/python3.5/site-packages/altair/vegalite/v2/__init__.py\u001b[0m in \u001b[0;36m<module>\u001b[0;34m()\u001b[0m\n\u001b[1;32m      1\u001b[0m \u001b[0;31m# flake8: noqa\u001b[0m\u001b[0;34m\u001b[0m\u001b[0;34m\u001b[0m\u001b[0m\n\u001b[1;32m      2\u001b[0m \u001b[0;32mfrom\u001b[0m \u001b[0;34m.\u001b[0m\u001b[0mschema\u001b[0m \u001b[0;32mimport\u001b[0m \u001b[0;34m*\u001b[0m\u001b[0;34m\u001b[0m\u001b[0m\n\u001b[0;32m----> 3\u001b[0;31m \u001b[0;32mfrom\u001b[0m \u001b[0;34m.\u001b[0m\u001b[0mapi\u001b[0m \u001b[0;32mimport\u001b[0m \u001b[0;34m*\u001b[0m\u001b[0;34m\u001b[0m\u001b[0m\n\u001b[0m\u001b[1;32m      4\u001b[0m \u001b[0;34m\u001b[0m\u001b[0m\n\u001b[1;32m      5\u001b[0m \u001b[0;32mfrom\u001b[0m \u001b[0;34m.\u001b[0m \u001b[0;32mimport\u001b[0m \u001b[0mexamples\u001b[0m\u001b[0;34m\u001b[0m\u001b[0m\n",
      "\u001b[0;32m~/anaconda/lib/python3.5/site-packages/altair/vegalite/v2/api.py\u001b[0m in \u001b[0;36m<module>\u001b[0;34m()\u001b[0m\n\u001b[1;32m     11\u001b[0m \u001b[0;32mfrom\u001b[0m \u001b[0;34m.\u001b[0m\u001b[0mdata\u001b[0m \u001b[0;32mimport\u001b[0m \u001b[0mdata_transformers\u001b[0m\u001b[0;34m,\u001b[0m \u001b[0mpipe\u001b[0m\u001b[0;34m\u001b[0m\u001b[0m\n\u001b[1;32m     12\u001b[0m \u001b[0;32mfrom\u001b[0m \u001b[0;34m...\u001b[0m \u001b[0;32mimport\u001b[0m \u001b[0mutils\u001b[0m\u001b[0;34m,\u001b[0m \u001b[0mexpr\u001b[0m\u001b[0;34m\u001b[0m\u001b[0m\n\u001b[0;32m---> 13\u001b[0;31m \u001b[0;32mfrom\u001b[0m \u001b[0;34m.\u001b[0m\u001b[0mdisplay\u001b[0m \u001b[0;32mimport\u001b[0m \u001b[0mrenderers\u001b[0m\u001b[0;34m,\u001b[0m \u001b[0mVEGALITE_VERSION\u001b[0m\u001b[0;34m,\u001b[0m \u001b[0mVEGAEMBED_VERSION\u001b[0m\u001b[0;34m,\u001b[0m \u001b[0mVEGA_VERSION\u001b[0m\u001b[0;34m\u001b[0m\u001b[0m\n\u001b[0m\u001b[1;32m     14\u001b[0m \u001b[0;32mfrom\u001b[0m \u001b[0;34m.\u001b[0m\u001b[0mtheme\u001b[0m \u001b[0;32mimport\u001b[0m \u001b[0mthemes\u001b[0m\u001b[0;34m\u001b[0m\u001b[0m\n\u001b[1;32m     15\u001b[0m \u001b[0;34m\u001b[0m\u001b[0m\n",
      "\u001b[0;32m~/anaconda/lib/python3.5/site-packages/altair/vegalite/v2/display.py\u001b[0m in \u001b[0;36m<module>\u001b[0;34m()\u001b[0m\n\u001b[1;32m      2\u001b[0m \u001b[0;34m\u001b[0m\u001b[0m\n\u001b[1;32m      3\u001b[0m \u001b[0;32mfrom\u001b[0m \u001b[0;34m...\u001b[0m\u001b[0mutils\u001b[0m\u001b[0;34m.\u001b[0m\u001b[0mmimebundle\u001b[0m \u001b[0;32mimport\u001b[0m \u001b[0mspec_to_mimebundle\u001b[0m\u001b[0;34m\u001b[0m\u001b[0m\n\u001b[0;32m----> 4\u001b[0;31m \u001b[0;32mfrom\u001b[0m \u001b[0;34m.\u001b[0m\u001b[0;34m.\u001b[0m\u001b[0mdisplay\u001b[0m \u001b[0;32mimport\u001b[0m \u001b[0mDisplayable\u001b[0m\u001b[0;34m\u001b[0m\u001b[0m\n\u001b[0m\u001b[1;32m      5\u001b[0m \u001b[0;32mfrom\u001b[0m \u001b[0;34m.\u001b[0m\u001b[0;34m.\u001b[0m\u001b[0mdisplay\u001b[0m \u001b[0;32mimport\u001b[0m \u001b[0mdefault_renderer_base\u001b[0m\u001b[0;34m\u001b[0m\u001b[0m\n\u001b[1;32m      6\u001b[0m \u001b[0;32mfrom\u001b[0m \u001b[0;34m.\u001b[0m\u001b[0;34m.\u001b[0m\u001b[0mdisplay\u001b[0m \u001b[0;32mimport\u001b[0m \u001b[0mjson_renderer_base\u001b[0m\u001b[0;34m\u001b[0m\u001b[0m\n",
      "\u001b[0;32m~/anaconda/lib/python3.5/site-packages/altair/vegalite/display.py\u001b[0m in \u001b[0;36m<module>\u001b[0;34m()\u001b[0m\n\u001b[0;32m----> 1\u001b[0;31m \u001b[0;32mfrom\u001b[0m \u001b[0;34m.\u001b[0m\u001b[0;34m.\u001b[0m\u001b[0mutils\u001b[0m\u001b[0;34m.\u001b[0m\u001b[0mdisplay\u001b[0m \u001b[0;32mimport\u001b[0m \u001b[0mDisplayable\u001b[0m\u001b[0;34m,\u001b[0m \u001b[0mdefault_renderer_base\u001b[0m\u001b[0;34m,\u001b[0m \u001b[0mjson_renderer_base\u001b[0m\u001b[0;34m\u001b[0m\u001b[0m\n\u001b[0m\u001b[1;32m      2\u001b[0m \u001b[0;32mfrom\u001b[0m \u001b[0;34m.\u001b[0m\u001b[0;34m.\u001b[0m\u001b[0mutils\u001b[0m\u001b[0;34m.\u001b[0m\u001b[0mdisplay\u001b[0m \u001b[0;32mimport\u001b[0m \u001b[0mRendererRegistry\u001b[0m\u001b[0;34m\u001b[0m\u001b[0m\n\u001b[1;32m      3\u001b[0m \u001b[0;34m\u001b[0m\u001b[0m\n\u001b[1;32m      4\u001b[0m \u001b[0;34m\u001b[0m\u001b[0m\n\u001b[1;32m      5\u001b[0m __all__ = (\n",
      "\u001b[0;32m~/anaconda/lib/python3.5/site-packages/altair/utils/display.py\u001b[0m in \u001b[0;36m<module>\u001b[0;34m()\u001b[0m\n\u001b[1;32m     16\u001b[0m \u001b[0;34m\u001b[0m\u001b[0m\n\u001b[1;32m     17\u001b[0m \u001b[0;34m\u001b[0m\u001b[0m\n\u001b[0;32m---> 18\u001b[0;31m \u001b[0;32mclass\u001b[0m \u001b[0mRendererRegistry\u001b[0m\u001b[0;34m(\u001b[0m\u001b[0mPluginRegistry\u001b[0m\u001b[0;34m[\u001b[0m\u001b[0mRendererType\u001b[0m\u001b[0;34m]\u001b[0m\u001b[0;34m)\u001b[0m\u001b[0;34m:\u001b[0m\u001b[0;34m\u001b[0m\u001b[0m\n\u001b[0m\u001b[1;32m     19\u001b[0m     entrypoint_err_messages = {\n\u001b[1;32m     20\u001b[0m         'notebook': textwrap.dedent(\n",
      "\u001b[0;32m~/anaconda/lib/python3.5/typing.py\u001b[0m in \u001b[0;36m__getitem__\u001b[0;34m(self, params)\u001b[0m\n\u001b[1;32m   1023\u001b[0m                     \u001b[0;34m\"Too %s parameters for %s; actual %s, expected %s\"\u001b[0m \u001b[0;34m%\u001b[0m\u001b[0;34m\u001b[0m\u001b[0m\n\u001b[1;32m   1024\u001b[0m                     (\"many\" if alen > elen else \"few\", repr(self), alen, elen))\n\u001b[0;32m-> 1025\u001b[0;31m             \u001b[0mtvars\u001b[0m \u001b[0;34m=\u001b[0m \u001b[0m_type_vars\u001b[0m\u001b[0;34m(\u001b[0m\u001b[0mparams\u001b[0m\u001b[0;34m)\u001b[0m\u001b[0;34m\u001b[0m\u001b[0m\n\u001b[0m\u001b[1;32m   1026\u001b[0m             \u001b[0margs\u001b[0m \u001b[0;34m=\u001b[0m \u001b[0mparams\u001b[0m\u001b[0;34m\u001b[0m\u001b[0m\n\u001b[1;32m   1027\u001b[0m         return self.__class__(self.__name__,\n",
      "\u001b[0;32m~/anaconda/lib/python3.5/typing.py\u001b[0m in \u001b[0;36m_type_vars\u001b[0;34m(types)\u001b[0m\n\u001b[1;32m    282\u001b[0m \u001b[0;32mdef\u001b[0m \u001b[0m_type_vars\u001b[0m\u001b[0;34m(\u001b[0m\u001b[0mtypes\u001b[0m\u001b[0;34m)\u001b[0m\u001b[0;34m:\u001b[0m\u001b[0;34m\u001b[0m\u001b[0m\n\u001b[1;32m    283\u001b[0m     \u001b[0mtvars\u001b[0m \u001b[0;34m=\u001b[0m \u001b[0;34m[\u001b[0m\u001b[0;34m]\u001b[0m\u001b[0;34m\u001b[0m\u001b[0m\n\u001b[0;32m--> 284\u001b[0;31m     \u001b[0m_get_type_vars\u001b[0m\u001b[0;34m(\u001b[0m\u001b[0mtypes\u001b[0m\u001b[0;34m,\u001b[0m \u001b[0mtvars\u001b[0m\u001b[0;34m)\u001b[0m\u001b[0;34m\u001b[0m\u001b[0m\n\u001b[0m\u001b[1;32m    285\u001b[0m     \u001b[0;32mreturn\u001b[0m \u001b[0mtuple\u001b[0m\u001b[0;34m(\u001b[0m\u001b[0mtvars\u001b[0m\u001b[0;34m)\u001b[0m\u001b[0;34m\u001b[0m\u001b[0m\n\u001b[1;32m    286\u001b[0m \u001b[0;34m\u001b[0m\u001b[0m\n",
      "\u001b[0;32m~/anaconda/lib/python3.5/typing.py\u001b[0m in \u001b[0;36m_get_type_vars\u001b[0;34m(types, tvars)\u001b[0m\n\u001b[1;32m    277\u001b[0m     \u001b[0;32mfor\u001b[0m \u001b[0mt\u001b[0m \u001b[0;32min\u001b[0m \u001b[0mtypes\u001b[0m\u001b[0;34m:\u001b[0m\u001b[0;34m\u001b[0m\u001b[0m\n\u001b[1;32m    278\u001b[0m         \u001b[0;32mif\u001b[0m \u001b[0misinstance\u001b[0m\u001b[0;34m(\u001b[0m\u001b[0mt\u001b[0m\u001b[0;34m,\u001b[0m \u001b[0mTypingMeta\u001b[0m\u001b[0;34m)\u001b[0m\u001b[0;34m:\u001b[0m\u001b[0;34m\u001b[0m\u001b[0m\n\u001b[0;32m--> 279\u001b[0;31m             \u001b[0mt\u001b[0m\u001b[0;34m.\u001b[0m\u001b[0m_get_type_vars\u001b[0m\u001b[0;34m(\u001b[0m\u001b[0mtvars\u001b[0m\u001b[0;34m)\u001b[0m\u001b[0;34m\u001b[0m\u001b[0m\n\u001b[0m\u001b[1;32m    280\u001b[0m \u001b[0;34m\u001b[0m\u001b[0m\n\u001b[1;32m    281\u001b[0m \u001b[0;34m\u001b[0m\u001b[0m\n",
      "\u001b[0;32m~/anaconda/lib/python3.5/typing.py\u001b[0m in \u001b[0;36m_get_type_vars\u001b[0;34m(self, tvars)\u001b[0m\n\u001b[1;32m    784\u001b[0m     \u001b[0;32mdef\u001b[0m \u001b[0m_get_type_vars\u001b[0m\u001b[0;34m(\u001b[0m\u001b[0mself\u001b[0m\u001b[0;34m,\u001b[0m \u001b[0mtvars\u001b[0m\u001b[0;34m)\u001b[0m\u001b[0;34m:\u001b[0m\u001b[0;34m\u001b[0m\u001b[0m\n\u001b[1;32m    785\u001b[0m         \u001b[0;32mif\u001b[0m \u001b[0mself\u001b[0m\u001b[0;34m.\u001b[0m\u001b[0m__args__\u001b[0m\u001b[0;34m:\u001b[0m\u001b[0;34m\u001b[0m\u001b[0m\n\u001b[0;32m--> 786\u001b[0;31m             \u001b[0m_get_type_vars\u001b[0m\u001b[0;34m(\u001b[0m\u001b[0mself\u001b[0m\u001b[0;34m.\u001b[0m\u001b[0m__args__\u001b[0m\u001b[0;34m,\u001b[0m \u001b[0mtvars\u001b[0m\u001b[0;34m)\u001b[0m\u001b[0;34m\u001b[0m\u001b[0m\n\u001b[0m\u001b[1;32m    787\u001b[0m \u001b[0;34m\u001b[0m\u001b[0m\n\u001b[1;32m    788\u001b[0m     \u001b[0;32mdef\u001b[0m \u001b[0m_eval_type\u001b[0m\u001b[0;34m(\u001b[0m\u001b[0mself\u001b[0m\u001b[0;34m,\u001b[0m \u001b[0mglobalns\u001b[0m\u001b[0;34m,\u001b[0m \u001b[0mlocalns\u001b[0m\u001b[0;34m)\u001b[0m\u001b[0;34m:\u001b[0m\u001b[0;34m\u001b[0m\u001b[0m\n",
      "\u001b[0;32m~/anaconda/lib/python3.5/typing.py\u001b[0m in \u001b[0;36m_get_type_vars\u001b[0;34m(types, tvars)\u001b[0m\n\u001b[1;32m    275\u001b[0m \u001b[0;34m\u001b[0m\u001b[0m\n\u001b[1;32m    276\u001b[0m \u001b[0;32mdef\u001b[0m \u001b[0m_get_type_vars\u001b[0m\u001b[0;34m(\u001b[0m\u001b[0mtypes\u001b[0m\u001b[0;34m,\u001b[0m \u001b[0mtvars\u001b[0m\u001b[0;34m)\u001b[0m\u001b[0;34m:\u001b[0m\u001b[0;34m\u001b[0m\u001b[0m\n\u001b[0;32m--> 277\u001b[0;31m     \u001b[0;32mfor\u001b[0m \u001b[0mt\u001b[0m \u001b[0;32min\u001b[0m \u001b[0mtypes\u001b[0m\u001b[0;34m:\u001b[0m\u001b[0;34m\u001b[0m\u001b[0m\n\u001b[0m\u001b[1;32m    278\u001b[0m         \u001b[0;32mif\u001b[0m \u001b[0misinstance\u001b[0m\u001b[0;34m(\u001b[0m\u001b[0mt\u001b[0m\u001b[0;34m,\u001b[0m \u001b[0mTypingMeta\u001b[0m\u001b[0;34m)\u001b[0m\u001b[0;34m:\u001b[0m\u001b[0;34m\u001b[0m\u001b[0m\n\u001b[1;32m    279\u001b[0m             \u001b[0mt\u001b[0m\u001b[0;34m.\u001b[0m\u001b[0m_get_type_vars\u001b[0m\u001b[0;34m(\u001b[0m\u001b[0mtvars\u001b[0m\u001b[0;34m)\u001b[0m\u001b[0;34m\u001b[0m\u001b[0m\n",
      "\u001b[0;31mTypeError\u001b[0m: 'ellipsis' object is not iterable"
     ]
    }
   ],
   "source": [
    "import pandas as pd\n",
    "from pandas import DataFrame\n",
    "# from altair import Chart, X, Y, Axis, SortField\n",
    "# #import altair as alt\n",
    "\n",
    "import altair as alt\n",
    "from vega_datasets import data"
   ]
  },
  {
   "cell_type": "markdown",
   "metadata": {},
   "source": [
    "NotebookApp.iopub_data_rate_limit = 1000000000"
   ]
  },
  {
   "cell_type": "code",
   "execution_count": 2,
   "metadata": {
    "collapsed": true
   },
   "outputs": [],
   "source": [
    "df_merged_onlySharedCols = pd.read_pickle('converted_files/pickles/'+'all8WaterQStationsButOnlySharedColumns.pickle')"
   ]
  },
  {
   "cell_type": "code",
   "execution_count": 3,
   "metadata": {},
   "outputs": [
    {
     "name": "stdout",
     "output_type": "stream",
     "text": [
      "<class 'pandas.core.frame.DataFrame'>\n",
      "Int64Index: 947020 entries, 0 to 148473\n",
      "Data columns (total 14 columns):\n",
      "agency           947020 non-null object\n",
      "site_no          947020 non-null object\n",
      "datetime         947020 non-null object\n",
      "tz_cd            947020 non-null object\n",
      "temp             947020 non-null object\n",
      "temp_q           947020 non-null object\n",
      "conductance      947020 non-null object\n",
      "conductance_q    947020 non-null object\n",
      "pH               947020 non-null object\n",
      "pH_q             947020 non-null object\n",
      "oxygen           947020 non-null object\n",
      "oxygen_q         947020 non-null object\n",
      "turbidity        947020 non-null object\n",
      "turbidity_q      947020 non-null object\n",
      "dtypes: object(14)\n",
      "memory usage: 108.4+ MB\n"
     ]
    }
   ],
   "source": [
    "df_merged_onlySharedCols.info()"
   ]
  },
  {
   "cell_type": "code",
   "execution_count": 4,
   "metadata": {},
   "outputs": [
    {
     "data": {
      "text/html": [
       "<div>\n",
       "<style scoped>\n",
       "    .dataframe tbody tr th:only-of-type {\n",
       "        vertical-align: middle;\n",
       "    }\n",
       "\n",
       "    .dataframe tbody tr th {\n",
       "        vertical-align: top;\n",
       "    }\n",
       "\n",
       "    .dataframe thead th {\n",
       "        text-align: right;\n",
       "    }\n",
       "</style>\n",
       "<table border=\"1\" class=\"dataframe\">\n",
       "  <thead>\n",
       "    <tr style=\"text-align: right;\">\n",
       "      <th></th>\n",
       "      <th>agency</th>\n",
       "      <th>site_no</th>\n",
       "      <th>datetime</th>\n",
       "      <th>tz_cd</th>\n",
       "      <th>temp</th>\n",
       "      <th>temp_q</th>\n",
       "      <th>conductance</th>\n",
       "      <th>conductance_q</th>\n",
       "      <th>pH</th>\n",
       "      <th>pH_q</th>\n",
       "      <th>oxygen</th>\n",
       "      <th>oxygen_q</th>\n",
       "      <th>turbidity</th>\n",
       "      <th>turbidity_q</th>\n",
       "    </tr>\n",
       "  </thead>\n",
       "  <tbody>\n",
       "    <tr>\n",
       "      <th>0</th>\n",
       "      <td>USGS</td>\n",
       "      <td>08068000</td>\n",
       "      <td>2014-02-06 00:15</td>\n",
       "      <td>CST</td>\n",
       "      <td>10.7</td>\n",
       "      <td>A</td>\n",
       "      <td>650</td>\n",
       "      <td>A</td>\n",
       "      <td>7.6</td>\n",
       "      <td>A</td>\n",
       "      <td>10.5</td>\n",
       "      <td>A</td>\n",
       "      <td>8.8</td>\n",
       "      <td>A</td>\n",
       "    </tr>\n",
       "    <tr>\n",
       "      <th>1</th>\n",
       "      <td>USGS</td>\n",
       "      <td>08068000</td>\n",
       "      <td>2014-02-06 00:30</td>\n",
       "      <td>CST</td>\n",
       "      <td>10.7</td>\n",
       "      <td>A</td>\n",
       "      <td>648</td>\n",
       "      <td>A</td>\n",
       "      <td>7.6</td>\n",
       "      <td>A</td>\n",
       "      <td>10.5</td>\n",
       "      <td>A</td>\n",
       "      <td>9.3</td>\n",
       "      <td>A</td>\n",
       "    </tr>\n",
       "    <tr>\n",
       "      <th>2</th>\n",
       "      <td>USGS</td>\n",
       "      <td>08068000</td>\n",
       "      <td>2014-02-06 00:45</td>\n",
       "      <td>CST</td>\n",
       "      <td>10.7</td>\n",
       "      <td>A</td>\n",
       "      <td>648</td>\n",
       "      <td>A</td>\n",
       "      <td>7.6</td>\n",
       "      <td>A</td>\n",
       "      <td>10.4</td>\n",
       "      <td>A</td>\n",
       "      <td>8.6</td>\n",
       "      <td>A</td>\n",
       "    </tr>\n",
       "    <tr>\n",
       "      <th>3</th>\n",
       "      <td>USGS</td>\n",
       "      <td>08068000</td>\n",
       "      <td>2014-02-06 01:00</td>\n",
       "      <td>CST</td>\n",
       "      <td>10.6</td>\n",
       "      <td>A</td>\n",
       "      <td>648</td>\n",
       "      <td>A</td>\n",
       "      <td>7.6</td>\n",
       "      <td>A</td>\n",
       "      <td>10.4</td>\n",
       "      <td>A</td>\n",
       "      <td>9.1</td>\n",
       "      <td>A</td>\n",
       "    </tr>\n",
       "    <tr>\n",
       "      <th>4</th>\n",
       "      <td>USGS</td>\n",
       "      <td>08068000</td>\n",
       "      <td>2014-02-06 01:15</td>\n",
       "      <td>CST</td>\n",
       "      <td>10.5</td>\n",
       "      <td>A</td>\n",
       "      <td>649</td>\n",
       "      <td>A</td>\n",
       "      <td>7.6</td>\n",
       "      <td>A</td>\n",
       "      <td>10.4</td>\n",
       "      <td>A</td>\n",
       "      <td>9.5</td>\n",
       "      <td>A</td>\n",
       "    </tr>\n",
       "  </tbody>\n",
       "</table>\n",
       "</div>"
      ],
      "text/plain": [
       "  agency   site_no          datetime tz_cd  temp temp_q conductance  \\\n",
       "0   USGS  08068000  2014-02-06 00:15   CST  10.7      A         650   \n",
       "1   USGS  08068000  2014-02-06 00:30   CST  10.7      A         648   \n",
       "2   USGS  08068000  2014-02-06 00:45   CST  10.7      A         648   \n",
       "3   USGS  08068000  2014-02-06 01:00   CST  10.6      A         648   \n",
       "4   USGS  08068000  2014-02-06 01:15   CST  10.5      A         649   \n",
       "\n",
       "  conductance_q   pH pH_q oxygen oxygen_q turbidity turbidity_q  \n",
       "0             A  7.6    A   10.5       A        8.8           A  \n",
       "1             A  7.6    A   10.5       A        9.3           A  \n",
       "2             A  7.6    A   10.4       A        8.6           A  \n",
       "3             A  7.6    A   10.4       A        9.1           A  \n",
       "4             A  7.6    A   10.4       A        9.5           A  "
      ]
     },
     "execution_count": 4,
     "metadata": {},
     "output_type": "execute_result"
    }
   ],
   "source": [
    "df_merged_onlySharedCols.head()"
   ]
  },
  {
   "cell_type": "code",
   "execution_count": 5,
   "metadata": {
    "collapsed": true
   },
   "outputs": [],
   "source": [
    "df_08068000 = df_merged_onlySharedCols[(df_merged_onlySharedCols['site_no'] == '08068000')]\n",
    "\n"
   ]
  },
  {
   "cell_type": "code",
   "execution_count": 6,
   "metadata": {},
   "outputs": [
    {
     "data": {
      "text/html": [
       "<div>\n",
       "<style scoped>\n",
       "    .dataframe tbody tr th:only-of-type {\n",
       "        vertical-align: middle;\n",
       "    }\n",
       "\n",
       "    .dataframe tbody tr th {\n",
       "        vertical-align: top;\n",
       "    }\n",
       "\n",
       "    .dataframe thead th {\n",
       "        text-align: right;\n",
       "    }\n",
       "</style>\n",
       "<table border=\"1\" class=\"dataframe\">\n",
       "  <thead>\n",
       "    <tr style=\"text-align: right;\">\n",
       "      <th></th>\n",
       "      <th>agency</th>\n",
       "      <th>site_no</th>\n",
       "      <th>datetime</th>\n",
       "      <th>tz_cd</th>\n",
       "      <th>temp</th>\n",
       "      <th>temp_q</th>\n",
       "      <th>conductance</th>\n",
       "      <th>conductance_q</th>\n",
       "      <th>pH</th>\n",
       "      <th>pH_q</th>\n",
       "      <th>oxygen</th>\n",
       "      <th>oxygen_q</th>\n",
       "      <th>turbidity</th>\n",
       "      <th>turbidity_q</th>\n",
       "    </tr>\n",
       "  </thead>\n",
       "  <tbody>\n",
       "    <tr>\n",
       "      <th>0</th>\n",
       "      <td>USGS</td>\n",
       "      <td>08068000</td>\n",
       "      <td>2014-02-06 00:15</td>\n",
       "      <td>CST</td>\n",
       "      <td>10.7</td>\n",
       "      <td>A</td>\n",
       "      <td>650</td>\n",
       "      <td>A</td>\n",
       "      <td>7.6</td>\n",
       "      <td>A</td>\n",
       "      <td>10.5</td>\n",
       "      <td>A</td>\n",
       "      <td>8.8</td>\n",
       "      <td>A</td>\n",
       "    </tr>\n",
       "    <tr>\n",
       "      <th>1</th>\n",
       "      <td>USGS</td>\n",
       "      <td>08068000</td>\n",
       "      <td>2014-02-06 00:30</td>\n",
       "      <td>CST</td>\n",
       "      <td>10.7</td>\n",
       "      <td>A</td>\n",
       "      <td>648</td>\n",
       "      <td>A</td>\n",
       "      <td>7.6</td>\n",
       "      <td>A</td>\n",
       "      <td>10.5</td>\n",
       "      <td>A</td>\n",
       "      <td>9.3</td>\n",
       "      <td>A</td>\n",
       "    </tr>\n",
       "    <tr>\n",
       "      <th>2</th>\n",
       "      <td>USGS</td>\n",
       "      <td>08068000</td>\n",
       "      <td>2014-02-06 00:45</td>\n",
       "      <td>CST</td>\n",
       "      <td>10.7</td>\n",
       "      <td>A</td>\n",
       "      <td>648</td>\n",
       "      <td>A</td>\n",
       "      <td>7.6</td>\n",
       "      <td>A</td>\n",
       "      <td>10.4</td>\n",
       "      <td>A</td>\n",
       "      <td>8.6</td>\n",
       "      <td>A</td>\n",
       "    </tr>\n",
       "    <tr>\n",
       "      <th>3</th>\n",
       "      <td>USGS</td>\n",
       "      <td>08068000</td>\n",
       "      <td>2014-02-06 01:00</td>\n",
       "      <td>CST</td>\n",
       "      <td>10.6</td>\n",
       "      <td>A</td>\n",
       "      <td>648</td>\n",
       "      <td>A</td>\n",
       "      <td>7.6</td>\n",
       "      <td>A</td>\n",
       "      <td>10.4</td>\n",
       "      <td>A</td>\n",
       "      <td>9.1</td>\n",
       "      <td>A</td>\n",
       "    </tr>\n",
       "    <tr>\n",
       "      <th>4</th>\n",
       "      <td>USGS</td>\n",
       "      <td>08068000</td>\n",
       "      <td>2014-02-06 01:15</td>\n",
       "      <td>CST</td>\n",
       "      <td>10.5</td>\n",
       "      <td>A</td>\n",
       "      <td>649</td>\n",
       "      <td>A</td>\n",
       "      <td>7.6</td>\n",
       "      <td>A</td>\n",
       "      <td>10.4</td>\n",
       "      <td>A</td>\n",
       "      <td>9.5</td>\n",
       "      <td>A</td>\n",
       "    </tr>\n",
       "  </tbody>\n",
       "</table>\n",
       "</div>"
      ],
      "text/plain": [
       "  agency   site_no          datetime tz_cd  temp temp_q conductance  \\\n",
       "0   USGS  08068000  2014-02-06 00:15   CST  10.7      A         650   \n",
       "1   USGS  08068000  2014-02-06 00:30   CST  10.7      A         648   \n",
       "2   USGS  08068000  2014-02-06 00:45   CST  10.7      A         648   \n",
       "3   USGS  08068000  2014-02-06 01:00   CST  10.6      A         648   \n",
       "4   USGS  08068000  2014-02-06 01:15   CST  10.5      A         649   \n",
       "\n",
       "  conductance_q   pH pH_q oxygen oxygen_q turbidity turbidity_q  \n",
       "0             A  7.6    A   10.5       A        8.8           A  \n",
       "1             A  7.6    A   10.5       A        9.3           A  \n",
       "2             A  7.6    A   10.4       A        8.6           A  \n",
       "3             A  7.6    A   10.4       A        9.1           A  \n",
       "4             A  7.6    A   10.4       A        9.5           A  "
      ]
     },
     "execution_count": 6,
     "metadata": {},
     "output_type": "execute_result"
    }
   ],
   "source": [
    "df_08068000.head()"
   ]
  },
  {
   "cell_type": "code",
   "execution_count": 7,
   "metadata": {},
   "outputs": [
    {
     "data": {
      "text/html": [
       "<div>\n",
       "<style scoped>\n",
       "    .dataframe tbody tr th:only-of-type {\n",
       "        vertical-align: middle;\n",
       "    }\n",
       "\n",
       "    .dataframe tbody tr th {\n",
       "        vertical-align: top;\n",
       "    }\n",
       "\n",
       "    .dataframe thead th {\n",
       "        text-align: right;\n",
       "    }\n",
       "</style>\n",
       "<table border=\"1\" class=\"dataframe\">\n",
       "  <thead>\n",
       "    <tr style=\"text-align: right;\">\n",
       "      <th></th>\n",
       "      <th>agency</th>\n",
       "      <th>site_no</th>\n",
       "      <th>datetime</th>\n",
       "      <th>tz_cd</th>\n",
       "      <th>temp</th>\n",
       "      <th>temp_q</th>\n",
       "      <th>conductance</th>\n",
       "      <th>conductance_q</th>\n",
       "      <th>pH</th>\n",
       "      <th>pH_q</th>\n",
       "      <th>oxygen</th>\n",
       "      <th>oxygen_q</th>\n",
       "      <th>turbidity</th>\n",
       "      <th>turbidity_q</th>\n",
       "    </tr>\n",
       "  </thead>\n",
       "  <tbody>\n",
       "    <tr>\n",
       "      <th>200</th>\n",
       "      <td>USGS</td>\n",
       "      <td>08068000</td>\n",
       "      <td>2014-02-08 02:15</td>\n",
       "      <td>CST</td>\n",
       "      <td>9.7</td>\n",
       "      <td>A</td>\n",
       "      <td>763</td>\n",
       "      <td>A</td>\n",
       "      <td>7.5</td>\n",
       "      <td>A</td>\n",
       "      <td>10.3</td>\n",
       "      <td>A</td>\n",
       "      <td>6.9</td>\n",
       "      <td>A</td>\n",
       "    </tr>\n",
       "    <tr>\n",
       "      <th>201</th>\n",
       "      <td>USGS</td>\n",
       "      <td>08068000</td>\n",
       "      <td>2014-02-08 02:30</td>\n",
       "      <td>CST</td>\n",
       "      <td>9.7</td>\n",
       "      <td>A</td>\n",
       "      <td>763</td>\n",
       "      <td>A</td>\n",
       "      <td>7.5</td>\n",
       "      <td>A</td>\n",
       "      <td>10.2</td>\n",
       "      <td>A</td>\n",
       "      <td>6.3</td>\n",
       "      <td>A</td>\n",
       "    </tr>\n",
       "    <tr>\n",
       "      <th>202</th>\n",
       "      <td>USGS</td>\n",
       "      <td>08068000</td>\n",
       "      <td>2014-02-08 02:45</td>\n",
       "      <td>CST</td>\n",
       "      <td>9.7</td>\n",
       "      <td>A</td>\n",
       "      <td>764</td>\n",
       "      <td>A</td>\n",
       "      <td>7.5</td>\n",
       "      <td>A</td>\n",
       "      <td>10.2</td>\n",
       "      <td>A</td>\n",
       "      <td>6.4</td>\n",
       "      <td>A</td>\n",
       "    </tr>\n",
       "    <tr>\n",
       "      <th>203</th>\n",
       "      <td>USGS</td>\n",
       "      <td>08068000</td>\n",
       "      <td>2014-02-08 03:00</td>\n",
       "      <td>CST</td>\n",
       "      <td>9.7</td>\n",
       "      <td>A</td>\n",
       "      <td>764</td>\n",
       "      <td>A</td>\n",
       "      <td>7.5</td>\n",
       "      <td>A</td>\n",
       "      <td>10.2</td>\n",
       "      <td>A</td>\n",
       "      <td>7.3</td>\n",
       "      <td>A</td>\n",
       "    </tr>\n",
       "    <tr>\n",
       "      <th>204</th>\n",
       "      <td>USGS</td>\n",
       "      <td>08068000</td>\n",
       "      <td>2014-02-08 03:15</td>\n",
       "      <td>CST</td>\n",
       "      <td>9.7</td>\n",
       "      <td>A</td>\n",
       "      <td>765</td>\n",
       "      <td>A</td>\n",
       "      <td>7.5</td>\n",
       "      <td>A</td>\n",
       "      <td>10.2</td>\n",
       "      <td>A</td>\n",
       "      <td>6.7</td>\n",
       "      <td>A</td>\n",
       "    </tr>\n",
       "  </tbody>\n",
       "</table>\n",
       "</div>"
      ],
      "text/plain": [
       "    agency   site_no          datetime tz_cd temp temp_q conductance  \\\n",
       "200   USGS  08068000  2014-02-08 02:15   CST  9.7      A         763   \n",
       "201   USGS  08068000  2014-02-08 02:30   CST  9.7      A         763   \n",
       "202   USGS  08068000  2014-02-08 02:45   CST  9.7      A         764   \n",
       "203   USGS  08068000  2014-02-08 03:00   CST  9.7      A         764   \n",
       "204   USGS  08068000  2014-02-08 03:15   CST  9.7      A         765   \n",
       "\n",
       "    conductance_q   pH pH_q oxygen oxygen_q turbidity turbidity_q  \n",
       "200             A  7.5    A   10.3       A        6.9           A  \n",
       "201             A  7.5    A   10.2       A        6.3           A  \n",
       "202             A  7.5    A   10.2       A        6.4           A  \n",
       "203             A  7.5    A   10.2       A        7.3           A  \n",
       "204             A  7.5    A   10.2       A        6.7           A  "
      ]
     },
     "execution_count": 7,
     "metadata": {},
     "output_type": "execute_result"
    }
   ],
   "source": [
    "df_08068000_subset = df_08068000[200:700]\n",
    "df_08068000_subset.head()"
   ]
  },
  {
   "cell_type": "code",
   "execution_count": 11,
   "metadata": {},
   "outputs": [
    {
     "ename": "AttributeError",
     "evalue": "'DataFrame' object has no attribute 'to_numeric'",
     "output_type": "error",
     "traceback": [
      "\u001b[0;31m---------------------------------------------------------------------------\u001b[0m",
      "\u001b[0;31mAttributeError\u001b[0m                            Traceback (most recent call last)",
      "\u001b[0;32m<ipython-input-11-b811f965a3ce>\u001b[0m in \u001b[0;36m<module>\u001b[0;34m()\u001b[0m\n\u001b[0;32m----> 1\u001b[0;31m \u001b[0mdf_08068000_subset\u001b[0m\u001b[0;34m.\u001b[0m\u001b[0mtemp\u001b[0m \u001b[0;34m=\u001b[0m \u001b[0mdf_08068000_subset\u001b[0m\u001b[0;34m.\u001b[0m\u001b[0mto_numeric\u001b[0m\u001b[0;34m(\u001b[0m\u001b[0mdf_08068000_subset\u001b[0m\u001b[0;34m.\u001b[0m\u001b[0mtemp\u001b[0m\u001b[0;34m,\u001b[0m \u001b[0merrors\u001b[0m\u001b[0;34m=\u001b[0m\u001b[0;34m'coerce'\u001b[0m\u001b[0;34m)\u001b[0m\u001b[0;34m\u001b[0m\u001b[0m\n\u001b[0m",
      "\u001b[0;32m~/anaconda/lib/python3.5/site-packages/pandas/core/generic.py\u001b[0m in \u001b[0;36m__getattr__\u001b[0;34m(self, name)\u001b[0m\n\u001b[1;32m   4370\u001b[0m             \u001b[0;32mif\u001b[0m \u001b[0mself\u001b[0m\u001b[0;34m.\u001b[0m\u001b[0m_info_axis\u001b[0m\u001b[0;34m.\u001b[0m\u001b[0m_can_hold_identifiers_and_holds_name\u001b[0m\u001b[0;34m(\u001b[0m\u001b[0mname\u001b[0m\u001b[0;34m)\u001b[0m\u001b[0;34m:\u001b[0m\u001b[0;34m\u001b[0m\u001b[0m\n\u001b[1;32m   4371\u001b[0m                 \u001b[0;32mreturn\u001b[0m \u001b[0mself\u001b[0m\u001b[0;34m[\u001b[0m\u001b[0mname\u001b[0m\u001b[0;34m]\u001b[0m\u001b[0;34m\u001b[0m\u001b[0m\n\u001b[0;32m-> 4372\u001b[0;31m             \u001b[0;32mreturn\u001b[0m \u001b[0mobject\u001b[0m\u001b[0;34m.\u001b[0m\u001b[0m__getattribute__\u001b[0m\u001b[0;34m(\u001b[0m\u001b[0mself\u001b[0m\u001b[0;34m,\u001b[0m \u001b[0mname\u001b[0m\u001b[0;34m)\u001b[0m\u001b[0;34m\u001b[0m\u001b[0m\n\u001b[0m\u001b[1;32m   4373\u001b[0m \u001b[0;34m\u001b[0m\u001b[0m\n\u001b[1;32m   4374\u001b[0m     \u001b[0;32mdef\u001b[0m \u001b[0m__setattr__\u001b[0m\u001b[0;34m(\u001b[0m\u001b[0mself\u001b[0m\u001b[0;34m,\u001b[0m \u001b[0mname\u001b[0m\u001b[0;34m,\u001b[0m \u001b[0mvalue\u001b[0m\u001b[0;34m)\u001b[0m\u001b[0;34m:\u001b[0m\u001b[0;34m\u001b[0m\u001b[0m\n",
      "\u001b[0;31mAttributeError\u001b[0m: 'DataFrame' object has no attribute 'to_numeric'"
     ]
    }
   ],
   "source": [
    "df_08068000_subset.temp = df_08068000_subset.to_numeric(df_08068000_subset.temp, errors='coerce')"
   ]
  },
  {
   "cell_type": "code",
   "execution_count": 10,
   "metadata": {},
   "outputs": [
    {
     "ename": "ValueError",
     "evalue": "scatter requires x column to be numeric",
     "output_type": "error",
     "traceback": [
      "\u001b[0;31m---------------------------------------------------------------------------\u001b[0m",
      "\u001b[0;31mValueError\u001b[0m                                Traceback (most recent call last)",
      "\u001b[0;32m<ipython-input-10-878fa3f93769>\u001b[0m in \u001b[0;36m<module>\u001b[0;34m()\u001b[0m\n\u001b[0;32m----> 1\u001b[0;31m \u001b[0mdf_08068000_subset\u001b[0m\u001b[0;34m.\u001b[0m\u001b[0mplot\u001b[0m\u001b[0;34m.\u001b[0m\u001b[0mscatter\u001b[0m\u001b[0;34m(\u001b[0m\u001b[0;34m'conductance'\u001b[0m\u001b[0;34m,\u001b[0m \u001b[0;34m'pH'\u001b[0m\u001b[0;34m)\u001b[0m\u001b[0;34m\u001b[0m\u001b[0m\n\u001b[0m",
      "\u001b[0;32m~/anaconda/lib/python3.5/site-packages/pandas/plotting/_core.py\u001b[0m in \u001b[0;36mscatter\u001b[0;34m(self, x, y, s, c, **kwds)\u001b[0m\n\u001b[1;32m   3459\u001b[0m             ...                       colormap='viridis')\n\u001b[1;32m   3460\u001b[0m         \"\"\"\n\u001b[0;32m-> 3461\u001b[0;31m         \u001b[0;32mreturn\u001b[0m \u001b[0mself\u001b[0m\u001b[0;34m(\u001b[0m\u001b[0mkind\u001b[0m\u001b[0;34m=\u001b[0m\u001b[0;34m'scatter'\u001b[0m\u001b[0;34m,\u001b[0m \u001b[0mx\u001b[0m\u001b[0;34m=\u001b[0m\u001b[0mx\u001b[0m\u001b[0;34m,\u001b[0m \u001b[0my\u001b[0m\u001b[0;34m=\u001b[0m\u001b[0my\u001b[0m\u001b[0;34m,\u001b[0m \u001b[0mc\u001b[0m\u001b[0;34m=\u001b[0m\u001b[0mc\u001b[0m\u001b[0;34m,\u001b[0m \u001b[0ms\u001b[0m\u001b[0;34m=\u001b[0m\u001b[0ms\u001b[0m\u001b[0;34m,\u001b[0m \u001b[0;34m**\u001b[0m\u001b[0mkwds\u001b[0m\u001b[0;34m)\u001b[0m\u001b[0;34m\u001b[0m\u001b[0m\n\u001b[0m\u001b[1;32m   3462\u001b[0m \u001b[0;34m\u001b[0m\u001b[0m\n\u001b[1;32m   3463\u001b[0m     def hexbin(self, x, y, C=None, reduce_C_function=None, gridsize=None,\n",
      "\u001b[0;32m~/anaconda/lib/python3.5/site-packages/pandas/plotting/_core.py\u001b[0m in \u001b[0;36m__call__\u001b[0;34m(self, x, y, kind, ax, subplots, sharex, sharey, layout, figsize, use_index, title, grid, legend, style, logx, logy, loglog, xticks, yticks, xlim, ylim, rot, fontsize, colormap, table, yerr, xerr, secondary_y, sort_columns, **kwds)\u001b[0m\n\u001b[1;32m   2939\u001b[0m                           \u001b[0mfontsize\u001b[0m\u001b[0;34m=\u001b[0m\u001b[0mfontsize\u001b[0m\u001b[0;34m,\u001b[0m \u001b[0mcolormap\u001b[0m\u001b[0;34m=\u001b[0m\u001b[0mcolormap\u001b[0m\u001b[0;34m,\u001b[0m \u001b[0mtable\u001b[0m\u001b[0;34m=\u001b[0m\u001b[0mtable\u001b[0m\u001b[0;34m,\u001b[0m\u001b[0;34m\u001b[0m\u001b[0m\n\u001b[1;32m   2940\u001b[0m                           \u001b[0myerr\u001b[0m\u001b[0;34m=\u001b[0m\u001b[0myerr\u001b[0m\u001b[0;34m,\u001b[0m \u001b[0mxerr\u001b[0m\u001b[0;34m=\u001b[0m\u001b[0mxerr\u001b[0m\u001b[0;34m,\u001b[0m \u001b[0msecondary_y\u001b[0m\u001b[0;34m=\u001b[0m\u001b[0msecondary_y\u001b[0m\u001b[0;34m,\u001b[0m\u001b[0;34m\u001b[0m\u001b[0m\n\u001b[0;32m-> 2941\u001b[0;31m                           sort_columns=sort_columns, **kwds)\n\u001b[0m\u001b[1;32m   2942\u001b[0m     \u001b[0m__call__\u001b[0m\u001b[0;34m.\u001b[0m\u001b[0m__doc__\u001b[0m \u001b[0;34m=\u001b[0m \u001b[0mplot_frame\u001b[0m\u001b[0;34m.\u001b[0m\u001b[0m__doc__\u001b[0m\u001b[0;34m\u001b[0m\u001b[0m\n\u001b[1;32m   2943\u001b[0m \u001b[0;34m\u001b[0m\u001b[0m\n",
      "\u001b[0;32m~/anaconda/lib/python3.5/site-packages/pandas/plotting/_core.py\u001b[0m in \u001b[0;36mplot_frame\u001b[0;34m(data, x, y, kind, ax, subplots, sharex, sharey, layout, figsize, use_index, title, grid, legend, style, logx, logy, loglog, xticks, yticks, xlim, ylim, rot, fontsize, colormap, table, yerr, xerr, secondary_y, sort_columns, **kwds)\u001b[0m\n\u001b[1;32m   1975\u001b[0m                  \u001b[0myerr\u001b[0m\u001b[0;34m=\u001b[0m\u001b[0myerr\u001b[0m\u001b[0;34m,\u001b[0m \u001b[0mxerr\u001b[0m\u001b[0;34m=\u001b[0m\u001b[0mxerr\u001b[0m\u001b[0;34m,\u001b[0m\u001b[0;34m\u001b[0m\u001b[0m\n\u001b[1;32m   1976\u001b[0m                  \u001b[0msecondary_y\u001b[0m\u001b[0;34m=\u001b[0m\u001b[0msecondary_y\u001b[0m\u001b[0;34m,\u001b[0m \u001b[0msort_columns\u001b[0m\u001b[0;34m=\u001b[0m\u001b[0msort_columns\u001b[0m\u001b[0;34m,\u001b[0m\u001b[0;34m\u001b[0m\u001b[0m\n\u001b[0;32m-> 1977\u001b[0;31m                  **kwds)\n\u001b[0m\u001b[1;32m   1978\u001b[0m \u001b[0;34m\u001b[0m\u001b[0m\n\u001b[1;32m   1979\u001b[0m \u001b[0;34m\u001b[0m\u001b[0m\n",
      "\u001b[0;32m~/anaconda/lib/python3.5/site-packages/pandas/plotting/_core.py\u001b[0m in \u001b[0;36m_plot\u001b[0;34m(data, x, y, subplots, ax, kind, **kwds)\u001b[0m\n\u001b[1;32m   1741\u001b[0m         \u001b[0;32mif\u001b[0m \u001b[0misinstance\u001b[0m\u001b[0;34m(\u001b[0m\u001b[0mdata\u001b[0m\u001b[0;34m,\u001b[0m \u001b[0mABCDataFrame\u001b[0m\u001b[0;34m)\u001b[0m\u001b[0;34m:\u001b[0m\u001b[0;34m\u001b[0m\u001b[0m\n\u001b[1;32m   1742\u001b[0m             plot_obj = klass(data, x=x, y=y, subplots=subplots, ax=ax,\n\u001b[0;32m-> 1743\u001b[0;31m                              kind=kind, **kwds)\n\u001b[0m\u001b[1;32m   1744\u001b[0m         \u001b[0;32melse\u001b[0m\u001b[0;34m:\u001b[0m\u001b[0;34m\u001b[0m\u001b[0m\n\u001b[1;32m   1745\u001b[0m             raise ValueError(\"plot kind %r can only be used for data frames\"\n",
      "\u001b[0;32m~/anaconda/lib/python3.5/site-packages/pandas/plotting/_core.py\u001b[0m in \u001b[0;36m__init__\u001b[0;34m(self, data, x, y, s, c, **kwargs)\u001b[0m\n\u001b[1;32m    843\u001b[0m             \u001b[0;31m# the handling of this argument later\u001b[0m\u001b[0;34m\u001b[0m\u001b[0;34m\u001b[0m\u001b[0m\n\u001b[1;32m    844\u001b[0m             \u001b[0ms\u001b[0m \u001b[0;34m=\u001b[0m \u001b[0;36m20\u001b[0m\u001b[0;34m\u001b[0m\u001b[0m\n\u001b[0;32m--> 845\u001b[0;31m         \u001b[0msuper\u001b[0m\u001b[0;34m(\u001b[0m\u001b[0mScatterPlot\u001b[0m\u001b[0;34m,\u001b[0m \u001b[0mself\u001b[0m\u001b[0;34m)\u001b[0m\u001b[0;34m.\u001b[0m\u001b[0m__init__\u001b[0m\u001b[0;34m(\u001b[0m\u001b[0mdata\u001b[0m\u001b[0;34m,\u001b[0m \u001b[0mx\u001b[0m\u001b[0;34m,\u001b[0m \u001b[0my\u001b[0m\u001b[0;34m,\u001b[0m \u001b[0ms\u001b[0m\u001b[0;34m=\u001b[0m\u001b[0ms\u001b[0m\u001b[0;34m,\u001b[0m \u001b[0;34m**\u001b[0m\u001b[0mkwargs\u001b[0m\u001b[0;34m)\u001b[0m\u001b[0;34m\u001b[0m\u001b[0m\n\u001b[0m\u001b[1;32m    846\u001b[0m         \u001b[0;32mif\u001b[0m \u001b[0mis_integer\u001b[0m\u001b[0;34m(\u001b[0m\u001b[0mc\u001b[0m\u001b[0;34m)\u001b[0m \u001b[0;32mand\u001b[0m \u001b[0;32mnot\u001b[0m \u001b[0mself\u001b[0m\u001b[0;34m.\u001b[0m\u001b[0mdata\u001b[0m\u001b[0;34m.\u001b[0m\u001b[0mcolumns\u001b[0m\u001b[0;34m.\u001b[0m\u001b[0mholds_integer\u001b[0m\u001b[0;34m(\u001b[0m\u001b[0;34m)\u001b[0m\u001b[0;34m:\u001b[0m\u001b[0;34m\u001b[0m\u001b[0m\n\u001b[1;32m    847\u001b[0m             \u001b[0mc\u001b[0m \u001b[0;34m=\u001b[0m \u001b[0mself\u001b[0m\u001b[0;34m.\u001b[0m\u001b[0mdata\u001b[0m\u001b[0;34m.\u001b[0m\u001b[0mcolumns\u001b[0m\u001b[0;34m[\u001b[0m\u001b[0mc\u001b[0m\u001b[0;34m]\u001b[0m\u001b[0;34m\u001b[0m\u001b[0m\n",
      "\u001b[0;32m~/anaconda/lib/python3.5/site-packages/pandas/plotting/_core.py\u001b[0m in \u001b[0;36m__init__\u001b[0;34m(self, data, x, y, **kwargs)\u001b[0m\n\u001b[1;32m    818\u001b[0m             \u001b[0my\u001b[0m \u001b[0;34m=\u001b[0m \u001b[0mself\u001b[0m\u001b[0;34m.\u001b[0m\u001b[0mdata\u001b[0m\u001b[0;34m.\u001b[0m\u001b[0mcolumns\u001b[0m\u001b[0;34m[\u001b[0m\u001b[0my\u001b[0m\u001b[0;34m]\u001b[0m\u001b[0;34m\u001b[0m\u001b[0m\n\u001b[1;32m    819\u001b[0m         \u001b[0;32mif\u001b[0m \u001b[0mlen\u001b[0m\u001b[0;34m(\u001b[0m\u001b[0mself\u001b[0m\u001b[0;34m.\u001b[0m\u001b[0mdata\u001b[0m\u001b[0;34m[\u001b[0m\u001b[0mx\u001b[0m\u001b[0;34m]\u001b[0m\u001b[0;34m.\u001b[0m\u001b[0m_get_numeric_data\u001b[0m\u001b[0;34m(\u001b[0m\u001b[0;34m)\u001b[0m\u001b[0;34m)\u001b[0m \u001b[0;34m==\u001b[0m \u001b[0;36m0\u001b[0m\u001b[0;34m:\u001b[0m\u001b[0;34m\u001b[0m\u001b[0m\n\u001b[0;32m--> 820\u001b[0;31m             \u001b[0;32mraise\u001b[0m \u001b[0mValueError\u001b[0m\u001b[0;34m(\u001b[0m\u001b[0mself\u001b[0m\u001b[0;34m.\u001b[0m\u001b[0m_kind\u001b[0m \u001b[0;34m+\u001b[0m \u001b[0;34m' requires x column to be numeric'\u001b[0m\u001b[0;34m)\u001b[0m\u001b[0;34m\u001b[0m\u001b[0m\n\u001b[0m\u001b[1;32m    821\u001b[0m         \u001b[0;32mif\u001b[0m \u001b[0mlen\u001b[0m\u001b[0;34m(\u001b[0m\u001b[0mself\u001b[0m\u001b[0;34m.\u001b[0m\u001b[0mdata\u001b[0m\u001b[0;34m[\u001b[0m\u001b[0my\u001b[0m\u001b[0;34m]\u001b[0m\u001b[0;34m.\u001b[0m\u001b[0m_get_numeric_data\u001b[0m\u001b[0;34m(\u001b[0m\u001b[0;34m)\u001b[0m\u001b[0;34m)\u001b[0m \u001b[0;34m==\u001b[0m \u001b[0;36m0\u001b[0m\u001b[0;34m:\u001b[0m\u001b[0;34m\u001b[0m\u001b[0m\n\u001b[1;32m    822\u001b[0m             \u001b[0;32mraise\u001b[0m \u001b[0mValueError\u001b[0m\u001b[0;34m(\u001b[0m\u001b[0mself\u001b[0m\u001b[0;34m.\u001b[0m\u001b[0m_kind\u001b[0m \u001b[0;34m+\u001b[0m \u001b[0;34m' requires y column to be numeric'\u001b[0m\u001b[0;34m)\u001b[0m\u001b[0;34m\u001b[0m\u001b[0m\n",
      "\u001b[0;31mValueError\u001b[0m: scatter requires x column to be numeric"
     ]
    }
   ],
   "source": [
    "df_08068000_subset.plot.scatter('conductance', 'pH')"
   ]
  },
  {
   "cell_type": "code",
   "execution_count": 56,
   "metadata": {},
   "outputs": [
    {
     "ename": "AttributeError",
     "evalue": "'Chart' object has no attribute 'properties'",
     "output_type": "error",
     "traceback": [
      "\u001b[0;31m---------------------------------------------------------------------------\u001b[0m",
      "\u001b[0;31mAttributeError\u001b[0m                            Traceback (most recent call last)",
      "\u001b[0;32m<ipython-input-56-fda096843a54>\u001b[0m in \u001b[0;36m<module>\u001b[0;34m()\u001b[0m\n\u001b[1;32m      5\u001b[0m     \u001b[0malt\u001b[0m\u001b[0;34m.\u001b[0m\u001b[0mY\u001b[0m\u001b[0;34m(\u001b[0m\u001b[0;34m'conductance'\u001b[0m\u001b[0;34m,\u001b[0m \u001b[0mscale\u001b[0m\u001b[0;34m=\u001b[0m\u001b[0malt\u001b[0m\u001b[0;34m.\u001b[0m\u001b[0mScale\u001b[0m\u001b[0;34m(\u001b[0m\u001b[0mzero\u001b[0m\u001b[0;34m=\u001b[0m\u001b[0;32mFalse\u001b[0m\u001b[0;34m,\u001b[0m \u001b[0mpadding\u001b[0m\u001b[0;34m=\u001b[0m\u001b[0;36m1\u001b[0m\u001b[0;34m)\u001b[0m\u001b[0;34m)\u001b[0m\u001b[0;34m,\u001b[0m\u001b[0;34m\u001b[0m\u001b[0m\n\u001b[1;32m      6\u001b[0m     \u001b[0mcolor\u001b[0m\u001b[0;34m=\u001b[0m\u001b[0;34m'temp_q'\u001b[0m\u001b[0;34m,\u001b[0m\u001b[0;34m\u001b[0m\u001b[0m\n\u001b[0;32m----> 7\u001b[0;31m     \u001b[0msize\u001b[0m\u001b[0;34m=\u001b[0m\u001b[0;34m'pH'\u001b[0m\u001b[0;34m\u001b[0m\u001b[0m\n\u001b[0m\u001b[1;32m      8\u001b[0m \u001b[0;34m)\u001b[0m\u001b[0;34m.\u001b[0m\u001b[0mproperties\u001b[0m\u001b[0;34m(\u001b[0m\u001b[0;34m\u001b[0m\u001b[0m\n\u001b[1;32m      9\u001b[0m     \u001b[0mwidth\u001b[0m\u001b[0;34m=\u001b[0m\u001b[0;36m150\u001b[0m\u001b[0;34m,\u001b[0m\u001b[0;34m\u001b[0m\u001b[0m\n",
      "\u001b[0;31mAttributeError\u001b[0m: 'Chart' object has no attribute 'properties'"
     ]
    }
   ],
   "source": [
    "# import altair as alt\n",
    "\n",
    "alt.Chart(df_08068000_subset).mark_circle().encode(\n",
    "    alt.X('oxygen', scale=alt.Scale(zero=False)),\n",
    "    alt.Y('conductance', scale=alt.Scale(zero=False, padding=1)),\n",
    "    color='temp_q',\n",
    "    size='pH'\n",
    ").properties(\n",
    "    width=150,\n",
    "    height=150\n",
    ")"
   ]
  },
  {
   "cell_type": "code",
   "execution_count": 54,
   "metadata": {},
   "outputs": [
    {
     "data": {
      "text/html": [
       "<div class=\"vega-embed\" id=\"e1faceac-c634-4bab-87c3-1ed50fd550f1\"></div>\n",
       "\n",
       "<style>\n",
       ".vega-embed svg, .vega-embed canvas {\n",
       "  border: 1px dotted gray;\n",
       "}\n",
       "\n",
       ".vega-embed .vega-actions a {\n",
       "  margin-right: 6px;\n",
       "}\n",
       "</style>\n"
      ]
     },
     "metadata": {
      "jupyter-vega": "#e1faceac-c634-4bab-87c3-1ed50fd550f1"
     },
     "output_type": "display_data"
    },
    {
     "data": {
      "application/javascript": [
       "var spec = {\"config\": {\"cell\": {\"height\": 350, \"width\": 500}}, \"mark\": \"circle\", \"encoding\": {\"x\": {\"type\": \"quantitative\", \"field\": \"sepalLength\", \"scale\": {\"zero\": false}}, \"size\": {\"type\": \"quantitative\", \"field\": \"petalWidth\"}, \"color\": {\"type\": \"nominal\", \"field\": \"species\"}, \"y\": {\"type\": \"quantitative\", \"field\": \"sepalWidth\", \"scale\": {\"zero\": false, \"padding\": 1.0}}}, \"data\": {\"values\": [{\"petalWidth\": 0.2, \"species\": \"setosa\", \"petalLength\": 1.4, \"sepalWidth\": 3.5, \"sepalLength\": 5.1}, {\"petalWidth\": 0.2, \"species\": \"setosa\", \"petalLength\": 1.4, \"sepalWidth\": 3.0, \"sepalLength\": 4.9}, {\"petalWidth\": 0.2, \"species\": \"setosa\", \"petalLength\": 1.3, \"sepalWidth\": 3.2, \"sepalLength\": 4.7}, {\"petalWidth\": 0.2, \"species\": \"setosa\", \"petalLength\": 1.5, \"sepalWidth\": 3.1, \"sepalLength\": 4.6}, {\"petalWidth\": 0.2, \"species\": \"setosa\", \"petalLength\": 1.4, \"sepalWidth\": 3.6, \"sepalLength\": 5.0}, {\"petalWidth\": 0.4, \"species\": \"setosa\", \"petalLength\": 1.7000000000000002, \"sepalWidth\": 3.9, \"sepalLength\": 5.4}, {\"petalWidth\": 0.30000000000000004, \"species\": \"setosa\", \"petalLength\": 1.4, \"sepalWidth\": 3.4, \"sepalLength\": 4.6}, {\"petalWidth\": 0.2, \"species\": \"setosa\", \"petalLength\": 1.5, \"sepalWidth\": 3.4, \"sepalLength\": 5.0}, {\"petalWidth\": 0.2, \"species\": \"setosa\", \"petalLength\": 1.4, \"sepalWidth\": 2.9, \"sepalLength\": 4.4}, {\"petalWidth\": 0.1, \"species\": \"setosa\", \"petalLength\": 1.5, \"sepalWidth\": 3.1, \"sepalLength\": 4.9}, {\"petalWidth\": 0.2, \"species\": \"setosa\", \"petalLength\": 1.5, \"sepalWidth\": 3.7, \"sepalLength\": 5.4}, {\"petalWidth\": 0.2, \"species\": \"setosa\", \"petalLength\": 1.6, \"sepalWidth\": 3.4, \"sepalLength\": 4.8}, {\"petalWidth\": 0.1, \"species\": \"setosa\", \"petalLength\": 1.4, \"sepalWidth\": 3.0, \"sepalLength\": 4.8}, {\"petalWidth\": 0.1, \"species\": \"setosa\", \"petalLength\": 1.1, \"sepalWidth\": 3.0, \"sepalLength\": 4.3}, {\"petalWidth\": 0.2, \"species\": \"setosa\", \"petalLength\": 1.2, \"sepalWidth\": 4.0, \"sepalLength\": 5.8}, {\"petalWidth\": 0.4, \"species\": \"setosa\", \"petalLength\": 1.5, \"sepalWidth\": 4.4, \"sepalLength\": 5.7}, {\"petalWidth\": 0.4, \"species\": \"setosa\", \"petalLength\": 1.3, \"sepalWidth\": 3.9, \"sepalLength\": 5.4}, {\"petalWidth\": 0.30000000000000004, \"species\": \"setosa\", \"petalLength\": 1.4, \"sepalWidth\": 3.5, \"sepalLength\": 5.1}, {\"petalWidth\": 0.30000000000000004, \"species\": \"setosa\", \"petalLength\": 1.7000000000000002, \"sepalWidth\": 3.8, \"sepalLength\": 5.7}, {\"petalWidth\": 0.30000000000000004, \"species\": \"setosa\", \"petalLength\": 1.5, \"sepalWidth\": 3.8, \"sepalLength\": 5.1}, {\"petalWidth\": 0.2, \"species\": \"setosa\", \"petalLength\": 1.7000000000000002, \"sepalWidth\": 3.4, \"sepalLength\": 5.4}, {\"petalWidth\": 0.4, \"species\": \"setosa\", \"petalLength\": 1.5, \"sepalWidth\": 3.7, \"sepalLength\": 5.1}, {\"petalWidth\": 0.2, \"species\": \"setosa\", \"petalLength\": 1.0, \"sepalWidth\": 3.6, \"sepalLength\": 4.6}, {\"petalWidth\": 0.5, \"species\": \"setosa\", \"petalLength\": 1.7000000000000002, \"sepalWidth\": 3.3, \"sepalLength\": 5.1}, {\"petalWidth\": 0.2, \"species\": \"setosa\", \"petalLength\": 1.9, \"sepalWidth\": 3.4, \"sepalLength\": 4.8}, {\"petalWidth\": 0.2, \"species\": \"setosa\", \"petalLength\": 1.6, \"sepalWidth\": 3.0, \"sepalLength\": 5.0}, {\"petalWidth\": 0.4, \"species\": \"setosa\", \"petalLength\": 1.6, \"sepalWidth\": 3.4, \"sepalLength\": 5.0}, {\"petalWidth\": 0.2, \"species\": \"setosa\", \"petalLength\": 1.5, \"sepalWidth\": 3.5, \"sepalLength\": 5.2}, {\"petalWidth\": 0.2, \"species\": \"setosa\", \"petalLength\": 1.4, \"sepalWidth\": 3.4, \"sepalLength\": 5.2}, {\"petalWidth\": 0.2, \"species\": \"setosa\", \"petalLength\": 1.6, \"sepalWidth\": 3.2, \"sepalLength\": 4.7}, {\"petalWidth\": 0.2, \"species\": \"setosa\", \"petalLength\": 1.6, \"sepalWidth\": 3.1, \"sepalLength\": 4.8}, {\"petalWidth\": 0.4, \"species\": \"setosa\", \"petalLength\": 1.5, \"sepalWidth\": 3.4, \"sepalLength\": 5.4}, {\"petalWidth\": 0.1, \"species\": \"setosa\", \"petalLength\": 1.5, \"sepalWidth\": 4.1, \"sepalLength\": 5.2}, {\"petalWidth\": 0.2, \"species\": \"setosa\", \"petalLength\": 1.4, \"sepalWidth\": 4.2, \"sepalLength\": 5.5}, {\"petalWidth\": 0.2, \"species\": \"setosa\", \"petalLength\": 1.5, \"sepalWidth\": 3.1, \"sepalLength\": 4.9}, {\"petalWidth\": 0.2, \"species\": \"setosa\", \"petalLength\": 1.2, \"sepalWidth\": 3.2, \"sepalLength\": 5.0}, {\"petalWidth\": 0.2, \"species\": \"setosa\", \"petalLength\": 1.3, \"sepalWidth\": 3.5, \"sepalLength\": 5.5}, {\"petalWidth\": 0.1, \"species\": \"setosa\", \"petalLength\": 1.4, \"sepalWidth\": 3.6, \"sepalLength\": 4.9}, {\"petalWidth\": 0.2, \"species\": \"setosa\", \"petalLength\": 1.3, \"sepalWidth\": 3.0, \"sepalLength\": 4.4}, {\"petalWidth\": 0.2, \"species\": \"setosa\", \"petalLength\": 1.5, \"sepalWidth\": 3.4, \"sepalLength\": 5.1}, {\"petalWidth\": 0.30000000000000004, \"species\": \"setosa\", \"petalLength\": 1.3, \"sepalWidth\": 3.5, \"sepalLength\": 5.0}, {\"petalWidth\": 0.30000000000000004, \"species\": \"setosa\", \"petalLength\": 1.3, \"sepalWidth\": 2.3, \"sepalLength\": 4.5}, {\"petalWidth\": 0.2, \"species\": \"setosa\", \"petalLength\": 1.3, \"sepalWidth\": 3.2, \"sepalLength\": 4.4}, {\"petalWidth\": 0.6000000000000001, \"species\": \"setosa\", \"petalLength\": 1.6, \"sepalWidth\": 3.5, \"sepalLength\": 5.0}, {\"petalWidth\": 0.4, \"species\": \"setosa\", \"petalLength\": 1.9, \"sepalWidth\": 3.8, \"sepalLength\": 5.1}, {\"petalWidth\": 0.30000000000000004, \"species\": \"setosa\", \"petalLength\": 1.4, \"sepalWidth\": 3.0, \"sepalLength\": 4.8}, {\"petalWidth\": 0.2, \"species\": \"setosa\", \"petalLength\": 1.6, \"sepalWidth\": 3.8, \"sepalLength\": 5.1}, {\"petalWidth\": 0.2, \"species\": \"setosa\", \"petalLength\": 1.4, \"sepalWidth\": 3.2, \"sepalLength\": 4.6}, {\"petalWidth\": 0.2, \"species\": \"setosa\", \"petalLength\": 1.5, \"sepalWidth\": 3.7, \"sepalLength\": 5.3}, {\"petalWidth\": 0.2, \"species\": \"setosa\", \"petalLength\": 1.4, \"sepalWidth\": 3.3, \"sepalLength\": 5.0}, {\"petalWidth\": 1.4, \"species\": \"versicolor\", \"petalLength\": 4.7, \"sepalWidth\": 3.2, \"sepalLength\": 7.0}, {\"petalWidth\": 1.5, \"species\": \"versicolor\", \"petalLength\": 4.5, \"sepalWidth\": 3.2, \"sepalLength\": 6.4}, {\"petalWidth\": 1.5, \"species\": \"versicolor\", \"petalLength\": 4.9, \"sepalWidth\": 3.1, \"sepalLength\": 6.9}, {\"petalWidth\": 1.3, \"species\": \"versicolor\", \"petalLength\": 4.0, \"sepalWidth\": 2.3, \"sepalLength\": 5.5}, {\"petalWidth\": 1.5, \"species\": \"versicolor\", \"petalLength\": 4.6, \"sepalWidth\": 2.8, \"sepalLength\": 6.5}, {\"petalWidth\": 1.3, \"species\": \"versicolor\", \"petalLength\": 4.5, \"sepalWidth\": 2.8, \"sepalLength\": 5.7}, {\"petalWidth\": 1.6, \"species\": \"versicolor\", \"petalLength\": 4.7, \"sepalWidth\": 3.3, \"sepalLength\": 6.3}, {\"petalWidth\": 1.0, \"species\": \"versicolor\", \"petalLength\": 3.3, \"sepalWidth\": 2.4, \"sepalLength\": 4.9}, {\"petalWidth\": 1.3, \"species\": \"versicolor\", \"petalLength\": 4.6, \"sepalWidth\": 2.9, \"sepalLength\": 6.6}, {\"petalWidth\": 1.4, \"species\": \"versicolor\", \"petalLength\": 3.9, \"sepalWidth\": 2.7, \"sepalLength\": 5.2}, {\"petalWidth\": 1.0, \"species\": \"versicolor\", \"petalLength\": 3.5, \"sepalWidth\": 2.0, \"sepalLength\": 5.0}, {\"petalWidth\": 1.5, \"species\": \"versicolor\", \"petalLength\": 4.2, \"sepalWidth\": 3.0, \"sepalLength\": 5.9}, {\"petalWidth\": 1.0, \"species\": \"versicolor\", \"petalLength\": 4.0, \"sepalWidth\": 2.2, \"sepalLength\": 6.0}, {\"petalWidth\": 1.4, \"species\": \"versicolor\", \"petalLength\": 4.7, \"sepalWidth\": 2.9, \"sepalLength\": 6.1}, {\"petalWidth\": 1.3, \"species\": \"versicolor\", \"petalLength\": 3.6, \"sepalWidth\": 2.9, \"sepalLength\": 5.6}, {\"petalWidth\": 1.4, \"species\": \"versicolor\", \"petalLength\": 4.4, \"sepalWidth\": 3.1, \"sepalLength\": 6.7}, {\"petalWidth\": 1.5, \"species\": \"versicolor\", \"petalLength\": 4.5, \"sepalWidth\": 3.0, \"sepalLength\": 5.6}, {\"petalWidth\": 1.0, \"species\": \"versicolor\", \"petalLength\": 4.1, \"sepalWidth\": 2.7, \"sepalLength\": 5.8}, {\"petalWidth\": 1.5, \"species\": \"versicolor\", \"petalLength\": 4.5, \"sepalWidth\": 2.2, \"sepalLength\": 6.2}, {\"petalWidth\": 1.1, \"species\": \"versicolor\", \"petalLength\": 3.9, \"sepalWidth\": 2.5, \"sepalLength\": 5.6}, {\"petalWidth\": 1.8, \"species\": \"versicolor\", \"petalLength\": 4.8, \"sepalWidth\": 3.2, \"sepalLength\": 5.9}, {\"petalWidth\": 1.3, \"species\": \"versicolor\", \"petalLength\": 4.0, \"sepalWidth\": 2.8, \"sepalLength\": 6.1}, {\"petalWidth\": 1.5, \"species\": \"versicolor\", \"petalLength\": 4.9, \"sepalWidth\": 2.5, \"sepalLength\": 6.3}, {\"petalWidth\": 1.2, \"species\": \"versicolor\", \"petalLength\": 4.7, \"sepalWidth\": 2.8, \"sepalLength\": 6.1}, {\"petalWidth\": 1.3, \"species\": \"versicolor\", \"petalLength\": 4.3, \"sepalWidth\": 2.9, \"sepalLength\": 6.4}, {\"petalWidth\": 1.4, \"species\": \"versicolor\", \"petalLength\": 4.4, \"sepalWidth\": 3.0, \"sepalLength\": 6.6}, {\"petalWidth\": 1.4, \"species\": \"versicolor\", \"petalLength\": 4.8, \"sepalWidth\": 2.8, \"sepalLength\": 6.8}, {\"petalWidth\": 1.7000000000000002, \"species\": \"versicolor\", \"petalLength\": 5.0, \"sepalWidth\": 3.0, \"sepalLength\": 6.7}, {\"petalWidth\": 1.5, \"species\": \"versicolor\", \"petalLength\": 4.5, \"sepalWidth\": 2.9, \"sepalLength\": 6.0}, {\"petalWidth\": 1.0, \"species\": \"versicolor\", \"petalLength\": 3.5, \"sepalWidth\": 2.6, \"sepalLength\": 5.7}, {\"petalWidth\": 1.1, \"species\": \"versicolor\", \"petalLength\": 3.8, \"sepalWidth\": 2.4, \"sepalLength\": 5.5}, {\"petalWidth\": 1.0, \"species\": \"versicolor\", \"petalLength\": 3.7, \"sepalWidth\": 2.4, \"sepalLength\": 5.5}, {\"petalWidth\": 1.2, \"species\": \"versicolor\", \"petalLength\": 3.9, \"sepalWidth\": 2.7, \"sepalLength\": 5.8}, {\"petalWidth\": 1.6, \"species\": \"versicolor\", \"petalLength\": 5.1, \"sepalWidth\": 2.7, \"sepalLength\": 6.0}, {\"petalWidth\": 1.5, \"species\": \"versicolor\", \"petalLength\": 4.5, \"sepalWidth\": 3.0, \"sepalLength\": 5.4}, {\"petalWidth\": 1.6, \"species\": \"versicolor\", \"petalLength\": 4.5, \"sepalWidth\": 3.4, \"sepalLength\": 6.0}, {\"petalWidth\": 1.5, \"species\": \"versicolor\", \"petalLength\": 4.7, \"sepalWidth\": 3.1, \"sepalLength\": 6.7}, {\"petalWidth\": 1.3, \"species\": \"versicolor\", \"petalLength\": 4.4, \"sepalWidth\": 2.3, \"sepalLength\": 6.3}, {\"petalWidth\": 1.3, \"species\": \"versicolor\", \"petalLength\": 4.1, \"sepalWidth\": 3.0, \"sepalLength\": 5.6}, {\"petalWidth\": 1.3, \"species\": \"versicolor\", \"petalLength\": 4.0, \"sepalWidth\": 2.5, \"sepalLength\": 5.5}, {\"petalWidth\": 1.2, \"species\": \"versicolor\", \"petalLength\": 4.4, \"sepalWidth\": 2.6, \"sepalLength\": 5.5}, {\"petalWidth\": 1.4, \"species\": \"versicolor\", \"petalLength\": 4.6, \"sepalWidth\": 3.0, \"sepalLength\": 6.1}, {\"petalWidth\": 1.2, \"species\": \"versicolor\", \"petalLength\": 4.0, \"sepalWidth\": 2.6, \"sepalLength\": 5.8}, {\"petalWidth\": 1.0, \"species\": \"versicolor\", \"petalLength\": 3.3, \"sepalWidth\": 2.3, \"sepalLength\": 5.0}, {\"petalWidth\": 1.3, \"species\": \"versicolor\", \"petalLength\": 4.2, \"sepalWidth\": 2.7, \"sepalLength\": 5.6}, {\"petalWidth\": 1.2, \"species\": \"versicolor\", \"petalLength\": 4.2, \"sepalWidth\": 3.0, \"sepalLength\": 5.7}, {\"petalWidth\": 1.3, \"species\": \"versicolor\", \"petalLength\": 4.2, \"sepalWidth\": 2.9, \"sepalLength\": 5.7}, {\"petalWidth\": 1.3, \"species\": \"versicolor\", \"petalLength\": 4.3, \"sepalWidth\": 2.9, \"sepalLength\": 6.2}, {\"petalWidth\": 1.1, \"species\": \"versicolor\", \"petalLength\": 3.0, \"sepalWidth\": 2.5, \"sepalLength\": 5.1}, {\"petalWidth\": 1.3, \"species\": \"versicolor\", \"petalLength\": 4.1, \"sepalWidth\": 2.8, \"sepalLength\": 5.7}, {\"petalWidth\": 2.5, \"species\": \"virginica\", \"petalLength\": 6.0, \"sepalWidth\": 3.3, \"sepalLength\": 6.3}, {\"petalWidth\": 1.9, \"species\": \"virginica\", \"petalLength\": 5.1, \"sepalWidth\": 2.7, \"sepalLength\": 5.8}, {\"petalWidth\": 2.1, \"species\": \"virginica\", \"petalLength\": 5.9, \"sepalWidth\": 3.0, \"sepalLength\": 7.1}, {\"petalWidth\": 1.8, \"species\": \"virginica\", \"petalLength\": 5.6, \"sepalWidth\": 2.9, \"sepalLength\": 6.3}, {\"petalWidth\": 2.2, \"species\": \"virginica\", \"petalLength\": 5.8, \"sepalWidth\": 3.0, \"sepalLength\": 6.5}, {\"petalWidth\": 2.1, \"species\": \"virginica\", \"petalLength\": 6.6, \"sepalWidth\": 3.0, \"sepalLength\": 7.6}, {\"petalWidth\": 1.7000000000000002, \"species\": \"virginica\", \"petalLength\": 4.5, \"sepalWidth\": 2.5, \"sepalLength\": 4.9}, {\"petalWidth\": 1.8, \"species\": \"virginica\", \"petalLength\": 6.3, \"sepalWidth\": 2.9, \"sepalLength\": 7.3}, {\"petalWidth\": 1.8, \"species\": \"virginica\", \"petalLength\": 5.8, \"sepalWidth\": 2.5, \"sepalLength\": 6.7}, {\"petalWidth\": 2.5, \"species\": \"virginica\", \"petalLength\": 6.1, \"sepalWidth\": 3.6, \"sepalLength\": 7.2}, {\"petalWidth\": 2.0, \"species\": \"virginica\", \"petalLength\": 5.1, \"sepalWidth\": 3.2, \"sepalLength\": 6.5}, {\"petalWidth\": 1.9, \"species\": \"virginica\", \"petalLength\": 5.3, \"sepalWidth\": 2.7, \"sepalLength\": 6.4}, {\"petalWidth\": 2.1, \"species\": \"virginica\", \"petalLength\": 5.5, \"sepalWidth\": 3.0, \"sepalLength\": 6.8}, {\"petalWidth\": 2.0, \"species\": \"virginica\", \"petalLength\": 5.0, \"sepalWidth\": 2.5, \"sepalLength\": 5.7}, {\"petalWidth\": 2.4, \"species\": \"virginica\", \"petalLength\": 5.1, \"sepalWidth\": 2.8, \"sepalLength\": 5.8}, {\"petalWidth\": 2.3, \"species\": \"virginica\", \"petalLength\": 5.3, \"sepalWidth\": 3.2, \"sepalLength\": 6.4}, {\"petalWidth\": 1.8, \"species\": \"virginica\", \"petalLength\": 5.5, \"sepalWidth\": 3.0, \"sepalLength\": 6.5}, {\"petalWidth\": 2.2, \"species\": \"virginica\", \"petalLength\": 6.7, \"sepalWidth\": 3.8, \"sepalLength\": 7.7}, {\"petalWidth\": 2.3, \"species\": \"virginica\", \"petalLength\": 6.9, \"sepalWidth\": 2.6, \"sepalLength\": 7.7}, {\"petalWidth\": 1.5, \"species\": \"virginica\", \"petalLength\": 5.0, \"sepalWidth\": 2.2, \"sepalLength\": 6.0}, {\"petalWidth\": 2.3, \"species\": \"virginica\", \"petalLength\": 5.7, \"sepalWidth\": 3.2, \"sepalLength\": 6.9}, {\"petalWidth\": 2.0, \"species\": \"virginica\", \"petalLength\": 4.9, \"sepalWidth\": 2.8, \"sepalLength\": 5.6}, {\"petalWidth\": 2.0, \"species\": \"virginica\", \"petalLength\": 6.7, \"sepalWidth\": 2.8, \"sepalLength\": 7.7}, {\"petalWidth\": 1.8, \"species\": \"virginica\", \"petalLength\": 4.9, \"sepalWidth\": 2.7, \"sepalLength\": 6.3}, {\"petalWidth\": 2.1, \"species\": \"virginica\", \"petalLength\": 5.7, \"sepalWidth\": 3.3, \"sepalLength\": 6.7}, {\"petalWidth\": 1.8, \"species\": \"virginica\", \"petalLength\": 6.0, \"sepalWidth\": 3.2, \"sepalLength\": 7.2}, {\"petalWidth\": 1.8, \"species\": \"virginica\", \"petalLength\": 4.8, \"sepalWidth\": 2.8, \"sepalLength\": 6.2}, {\"petalWidth\": 1.8, \"species\": \"virginica\", \"petalLength\": 4.9, \"sepalWidth\": 3.0, \"sepalLength\": 6.1}, {\"petalWidth\": 2.1, \"species\": \"virginica\", \"petalLength\": 5.6, \"sepalWidth\": 2.8, \"sepalLength\": 6.4}, {\"petalWidth\": 1.6, \"species\": \"virginica\", \"petalLength\": 5.8, \"sepalWidth\": 3.0, \"sepalLength\": 7.2}, {\"petalWidth\": 1.9, \"species\": \"virginica\", \"petalLength\": 6.1, \"sepalWidth\": 2.8, \"sepalLength\": 7.4}, {\"petalWidth\": 2.0, \"species\": \"virginica\", \"petalLength\": 6.4, \"sepalWidth\": 3.8, \"sepalLength\": 7.9}, {\"petalWidth\": 2.2, \"species\": \"virginica\", \"petalLength\": 5.6, \"sepalWidth\": 2.8, \"sepalLength\": 6.4}, {\"petalWidth\": 1.5, \"species\": \"virginica\", \"petalLength\": 5.1, \"sepalWidth\": 2.8, \"sepalLength\": 6.3}, {\"petalWidth\": 1.4, \"species\": \"virginica\", \"petalLength\": 5.6, \"sepalWidth\": 2.6, \"sepalLength\": 6.1}, {\"petalWidth\": 2.3, \"species\": \"virginica\", \"petalLength\": 6.1, \"sepalWidth\": 3.0, \"sepalLength\": 7.7}, {\"petalWidth\": 2.4, \"species\": \"virginica\", \"petalLength\": 5.6, \"sepalWidth\": 3.4, \"sepalLength\": 6.3}, {\"petalWidth\": 1.8, \"species\": \"virginica\", \"petalLength\": 5.5, \"sepalWidth\": 3.1, \"sepalLength\": 6.4}, {\"petalWidth\": 1.8, \"species\": \"virginica\", \"petalLength\": 4.8, \"sepalWidth\": 3.0, \"sepalLength\": 6.0}, {\"petalWidth\": 2.1, \"species\": \"virginica\", \"petalLength\": 5.4, \"sepalWidth\": 3.1, \"sepalLength\": 6.9}, {\"petalWidth\": 2.4, \"species\": \"virginica\", \"petalLength\": 5.6, \"sepalWidth\": 3.1, \"sepalLength\": 6.7}, {\"petalWidth\": 2.3, \"species\": \"virginica\", \"petalLength\": 5.1, \"sepalWidth\": 3.1, \"sepalLength\": 6.9}, {\"petalWidth\": 1.9, \"species\": \"virginica\", \"petalLength\": 5.1, \"sepalWidth\": 2.7, \"sepalLength\": 5.8}, {\"petalWidth\": 2.3, \"species\": \"virginica\", \"petalLength\": 5.9, \"sepalWidth\": 3.2, \"sepalLength\": 6.8}, {\"petalWidth\": 2.5, \"species\": \"virginica\", \"petalLength\": 5.7, \"sepalWidth\": 3.3, \"sepalLength\": 6.7}, {\"petalWidth\": 2.3, \"species\": \"virginica\", \"petalLength\": 5.2, \"sepalWidth\": 3.0, \"sepalLength\": 6.7}, {\"petalWidth\": 1.9, \"species\": \"virginica\", \"petalLength\": 5.0, \"sepalWidth\": 2.5, \"sepalLength\": 6.3}, {\"petalWidth\": 2.0, \"species\": \"virginica\", \"petalLength\": 5.2, \"sepalWidth\": 3.0, \"sepalLength\": 6.5}, {\"petalWidth\": 2.3, \"species\": \"virginica\", \"petalLength\": 5.4, \"sepalWidth\": 3.4, \"sepalLength\": 6.2}, {\"petalWidth\": 1.8, \"species\": \"virginica\", \"petalLength\": 5.1, \"sepalWidth\": 3.0, \"sepalLength\": 5.9}]}};\n",
       "var selector = \"#e1faceac-c634-4bab-87c3-1ed50fd550f1\";\n",
       "var type = \"vega-lite\";\n",
       "\n",
       "var output_area = this;\n",
       "require(['nbextensions/jupyter-vega/index'], function(vega) {\n",
       "  vega.render(selector, spec, type, output_area);\n",
       "}, function (err) {\n",
       "  if (err.requireType !== 'scripterror') {\n",
       "    throw(err);\n",
       "  }\n",
       "});\n"
      ]
     },
     "metadata": {
      "jupyter-vega": "#e1faceac-c634-4bab-87c3-1ed50fd550f1"
     },
     "output_type": "display_data"
    },
    {
     "data": {
      "image/png": "[encoded data removed]"
     },
     "metadata": {
      "jupyter-vega": "#e1faceac-c634-4bab-87c3-1ed50fd550f1"
     },
     "output_type": "display_data"
    }
   ],
   "source": [
    "# import altair as alt\n",
    "from vega_datasets import data\n",
    "\n",
    "iris = data.iris()\n",
    "\n",
    "alt.Chart(iris).mark_circle().encode(\n",
    "    alt.X('sepalLength', scale=alt.Scale(zero=False)),\n",
    "    alt.Y('sepalWidth', scale=alt.Scale(zero=False, padding=1)),\n",
    "    color='species',\n",
    "    size='petalWidth'\n",
    ")"
   ]
  },
  {
   "cell_type": "code",
   "execution_count": null,
   "metadata": {
    "collapsed": true
   },
   "outputs": [],
   "source": [
    "alt.Chart(iris).mark_circle().encode(\n",
    "    alt.X('sepalLength', scale=alt.Scale(zero=False)),\n",
    "    alt.Y('sepalWidth', scale=alt.Scale(zero=False, padding=1)),\n",
    "    color='species',\n",
    "    size='petalWidth'\n",
    ")"
   ]
  }
 ],
 "metadata": {
  "kernelspec": {
   "display_name": "Python 3",
   "language": "python",
   "name": "python3"
  },
  "language_info": {
   "codemirror_mode": {
    "name": "ipython",
    "version": 3
   },
   "file_extension": ".py",
   "mimetype": "text/x-python",
   "name": "python",
   "nbconvert_exporter": "python",
   "pygments_lexer": "ipython3",
   "version": "3.5.2"
  }
 },
 "nbformat": 4,
 "nbformat_minor": 2
}
